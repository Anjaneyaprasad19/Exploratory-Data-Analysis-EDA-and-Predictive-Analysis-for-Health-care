{
 "cells": [
  {
   "cell_type": "code",
   "execution_count": 1,
   "metadata": {},
   "outputs": [
    {
     "name": "stderr",
     "output_type": "stream",
     "text": [
      "c:\\Users\\bharg\\anaconda3\\lib\\site-packages\\pandas\\core\\computation\\expressions.py:21: UserWarning: Pandas requires version '2.8.4' or newer of 'numexpr' (version '2.8.3' currently installed).\n",
      "  from pandas.core.computation.check import NUMEXPR_INSTALLED\n",
      "c:\\Users\\bharg\\anaconda3\\lib\\site-packages\\pandas\\core\\arrays\\masked.py:60: UserWarning: Pandas requires version '1.3.6' or newer of 'bottleneck' (version '1.3.5' currently installed).\n",
      "  from pandas.core import (\n"
     ]
    },
    {
     "name": "stdout",
     "output_type": "stream",
     "text": [
      "        Name  Age  Gender Blood Type Medical Condition Date of Admission  \\\n",
      "0  Patient_0   58    Male         O-      Hypertension          1/1/2023   \n",
      "1  Patient_1   71  Female         O-            Cancer          1/2/2023   \n",
      "2  Patient_2   48  Female         A-          Diabetes          1/3/2023   \n",
      "3  Patient_3   34    Male        AB-            Asthma          1/4/2023   \n",
      "4  Patient_4   62  Female         B-      Hypertension          1/5/2023   \n",
      "\n",
      "        Doctor          Hospital Insurance Provider  Billing Amount  \\\n",
      "0  Dr. Matthew       Mayo Clinic         Blue Cross    42984.593897   \n",
      "1    Dr.justin  Cleveland Clinic   UnitedHealthcare    21619.671022   \n",
      "2    Dr.justin  Cleveland Clinic              Aetna    25331.064631   \n",
      "3    Dr.justin       Mayo Clinic              Aetna    25507.810673   \n",
      "4    Dr. Patel       Mayo Clinic              Aetna    35207.394089   \n",
      "\n",
      "   Room Number Admission Type Discharge Date   Medication  Test Results  \n",
      "0          229       Elective       1/2/2023   Penicillin      Abnormal  \n",
      "1          431      Emergency       1/3/2023      Aspirin  Inconclusive  \n",
      "2          277       Elective       1/4/2023    Ibuprofen        Normal  \n",
      "3          372       Elective       1/5/2023  Paracetamol        Normal  \n",
      "4          390       Elective       1/6/2023  Paracetamol      Abnormal  \n"
     ]
    }
   ],
   "source": [
    "import pandas as pd\n",
    "import numpy as np\n",
    "\n",
    "# Load the dataset\n",
    "data = pd.read_csv('Project_healthcare_dataset.csv')\n",
    "\n",
    "# Display the first few rows to understand the structure\n",
    "print(data.head())"
   ]
  },
  {
   "cell_type": "code",
   "execution_count": 2,
   "metadata": {},
   "outputs": [
    {
     "name": "stdout",
     "output_type": "stream",
     "text": [
      "<class 'pandas.core.frame.DataFrame'>\n",
      "RangeIndex: 51000 entries, 0 to 50999\n",
      "Data columns (total 15 columns):\n",
      " #   Column              Non-Null Count  Dtype  \n",
      "---  ------              --------------  -----  \n",
      " 0   Name                51000 non-null  object \n",
      " 1   Age                 51000 non-null  int64  \n",
      " 2   Gender              51000 non-null  object \n",
      " 3   Blood Type          51000 non-null  object \n",
      " 4   Medical Condition   51000 non-null  object \n",
      " 5   Date of Admission   51000 non-null  object \n",
      " 6   Doctor              51000 non-null  object \n",
      " 7   Hospital            51000 non-null  object \n",
      " 8   Insurance Provider  51000 non-null  object \n",
      " 9   Billing Amount      51000 non-null  float64\n",
      " 10  Room Number         51000 non-null  int64  \n",
      " 11  Admission Type      51000 non-null  object \n",
      " 12  Discharge Date      51000 non-null  object \n",
      " 13  Medication          51000 non-null  object \n",
      " 14  Test Results        51000 non-null  object \n",
      "dtypes: float64(1), int64(2), object(12)\n",
      "memory usage: 5.8+ MB\n",
      "None\n"
     ]
    }
   ],
   "source": [
    "# Basic info to check data types and missing values\n",
    "print(data.info())"
   ]
  },
  {
   "cell_type": "code",
   "execution_count": 3,
   "metadata": {},
   "outputs": [],
   "source": [
    "## Data Cleaning Steps##"
   ]
  },
  {
   "cell_type": "code",
   "execution_count": 5,
   "metadata": {},
   "outputs": [
    {
     "name": "stdout",
     "output_type": "stream",
     "text": [
      "Name                  0\n",
      "Age                   0\n",
      "Gender                0\n",
      "Blood Type            0\n",
      "Medical Condition     0\n",
      "Date of Admission     0\n",
      "Doctor                0\n",
      "Hospital              0\n",
      "Insurance Provider    0\n",
      "Billing Amount        0\n",
      "Room Number           0\n",
      "Admission Type        0\n",
      "Discharge Date        0\n",
      "Medication            0\n",
      "Test Results          0\n",
      "dtype: int64\n"
     ]
    }
   ],
   "source": [
    "# Check for missing values\n",
    "print(data.isnull().sum())\n",
    "\n",
    "# Impute or drop missing values (this depends on the importance of each feature)\n",
    "# For simplicity, we'll drop rows with missing values initially\n",
    "data.dropna(inplace=True)\n",
    "\n",
    "\n"
   ]
  },
  {
   "cell_type": "code",
   "execution_count": 6,
   "metadata": {},
   "outputs": [
    {
     "name": "stdout",
     "output_type": "stream",
     "text": [
      "Name                  0\n",
      "Age                   0\n",
      "Gender                0\n",
      "Blood Type            0\n",
      "Medical Condition     0\n",
      "Date of Admission     0\n",
      "Doctor                0\n",
      "Hospital              0\n",
      "Insurance Provider    0\n",
      "Billing Amount        0\n",
      "Room Number           0\n",
      "Admission Type        0\n",
      "Discharge Date        0\n",
      "Medication            0\n",
      "Test Results          0\n",
      "dtype: int64\n"
     ]
    }
   ],
   "source": [
    "# Verifying there are no more missing values\n",
    "print(data.isnull().sum())"
   ]
  },
  {
   "cell_type": "code",
   "execution_count": 6,
   "metadata": {},
   "outputs": [],
   "source": [
    "## Data Preprocessing##"
   ]
  },
  {
   "cell_type": "code",
   "execution_count": 7,
   "metadata": {},
   "outputs": [
    {
     "data": {
      "text/html": [
       "<div>\n",
       "<style scoped>\n",
       "    .dataframe tbody tr th:only-of-type {\n",
       "        vertical-align: middle;\n",
       "    }\n",
       "\n",
       "    .dataframe tbody tr th {\n",
       "        vertical-align: top;\n",
       "    }\n",
       "\n",
       "    .dataframe thead th {\n",
       "        text-align: right;\n",
       "    }\n",
       "</style>\n",
       "<table border=\"1\" class=\"dataframe\">\n",
       "  <thead>\n",
       "    <tr style=\"text-align: right;\">\n",
       "      <th></th>\n",
       "      <th>Name</th>\n",
       "      <th>Age</th>\n",
       "      <th>Gender</th>\n",
       "      <th>Blood Type</th>\n",
       "      <th>Medical Condition</th>\n",
       "      <th>Date of Admission</th>\n",
       "      <th>Doctor</th>\n",
       "      <th>Hospital</th>\n",
       "      <th>Insurance Provider</th>\n",
       "      <th>Billing Amount</th>\n",
       "      <th>Room Number</th>\n",
       "      <th>Admission Type</th>\n",
       "      <th>Discharge Date</th>\n",
       "      <th>Medication</th>\n",
       "      <th>Test Results</th>\n",
       "    </tr>\n",
       "  </thead>\n",
       "  <tbody>\n",
       "    <tr>\n",
       "      <th>0</th>\n",
       "      <td>Patient_0</td>\n",
       "      <td>58</td>\n",
       "      <td>1</td>\n",
       "      <td>7</td>\n",
       "      <td>3</td>\n",
       "      <td>1/1/2023</td>\n",
       "      <td>3</td>\n",
       "      <td>3</td>\n",
       "      <td>1</td>\n",
       "      <td>42984.593897</td>\n",
       "      <td>229</td>\n",
       "      <td>0</td>\n",
       "      <td>1/2/2023</td>\n",
       "      <td>3</td>\n",
       "      <td>0</td>\n",
       "    </tr>\n",
       "    <tr>\n",
       "      <th>1</th>\n",
       "      <td>Patient_1</td>\n",
       "      <td>71</td>\n",
       "      <td>0</td>\n",
       "      <td>7</td>\n",
       "      <td>1</td>\n",
       "      <td>1/2/2023</td>\n",
       "      <td>7</td>\n",
       "      <td>0</td>\n",
       "      <td>4</td>\n",
       "      <td>21619.671022</td>\n",
       "      <td>431</td>\n",
       "      <td>1</td>\n",
       "      <td>1/3/2023</td>\n",
       "      <td>0</td>\n",
       "      <td>1</td>\n",
       "    </tr>\n",
       "    <tr>\n",
       "      <th>2</th>\n",
       "      <td>Patient_2</td>\n",
       "      <td>48</td>\n",
       "      <td>0</td>\n",
       "      <td>1</td>\n",
       "      <td>2</td>\n",
       "      <td>1/3/2023</td>\n",
       "      <td>7</td>\n",
       "      <td>0</td>\n",
       "      <td>0</td>\n",
       "      <td>25331.064631</td>\n",
       "      <td>277</td>\n",
       "      <td>0</td>\n",
       "      <td>1/4/2023</td>\n",
       "      <td>1</td>\n",
       "      <td>2</td>\n",
       "    </tr>\n",
       "    <tr>\n",
       "      <th>3</th>\n",
       "      <td>Patient_3</td>\n",
       "      <td>34</td>\n",
       "      <td>1</td>\n",
       "      <td>3</td>\n",
       "      <td>0</td>\n",
       "      <td>1/4/2023</td>\n",
       "      <td>7</td>\n",
       "      <td>3</td>\n",
       "      <td>0</td>\n",
       "      <td>25507.810673</td>\n",
       "      <td>372</td>\n",
       "      <td>0</td>\n",
       "      <td>1/5/2023</td>\n",
       "      <td>2</td>\n",
       "      <td>2</td>\n",
       "    </tr>\n",
       "    <tr>\n",
       "      <th>4</th>\n",
       "      <td>Patient_4</td>\n",
       "      <td>62</td>\n",
       "      <td>0</td>\n",
       "      <td>5</td>\n",
       "      <td>3</td>\n",
       "      <td>1/5/2023</td>\n",
       "      <td>4</td>\n",
       "      <td>3</td>\n",
       "      <td>0</td>\n",
       "      <td>35207.394089</td>\n",
       "      <td>390</td>\n",
       "      <td>0</td>\n",
       "      <td>1/6/2023</td>\n",
       "      <td>2</td>\n",
       "      <td>0</td>\n",
       "    </tr>\n",
       "  </tbody>\n",
       "</table>\n",
       "</div>"
      ],
      "text/plain": [
       "        Name  Age  Gender  Blood Type  Medical Condition Date of Admission  \\\n",
       "0  Patient_0   58       1           7                  3          1/1/2023   \n",
       "1  Patient_1   71       0           7                  1          1/2/2023   \n",
       "2  Patient_2   48       0           1                  2          1/3/2023   \n",
       "3  Patient_3   34       1           3                  0          1/4/2023   \n",
       "4  Patient_4   62       0           5                  3          1/5/2023   \n",
       "\n",
       "   Doctor  Hospital  Insurance Provider  Billing Amount  Room Number  \\\n",
       "0       3         3                   1    42984.593897          229   \n",
       "1       7         0                   4    21619.671022          431   \n",
       "2       7         0                   0    25331.064631          277   \n",
       "3       7         3                   0    25507.810673          372   \n",
       "4       4         3                   0    35207.394089          390   \n",
       "\n",
       "   Admission Type Discharge Date  Medication  Test Results  \n",
       "0               0       1/2/2023           3             0  \n",
       "1               1       1/3/2023           0             1  \n",
       "2               0       1/4/2023           1             2  \n",
       "3               0       1/5/2023           2             2  \n",
       "4               0       1/6/2023           2             0  "
      ]
     },
     "execution_count": 7,
     "metadata": {},
     "output_type": "execute_result"
    }
   ],
   "source": [
    "from sklearn.preprocessing import LabelEncoder\n",
    "\n",
    "# Initialized LabelEncoder for encoding categorical columns\n",
    "label_encoder = LabelEncoder()\n",
    "\n",
    "# List of categorical columns to encode\n",
    "categorical_columns = ['Gender', 'Blood Type', 'Medical Condition', 'Doctor', 'Hospital', \n",
    "                       'Insurance Provider', 'Admission Type', 'Medication', 'Test Results']\n",
    "\n",
    "# Apply label encoding to each categorical column\n",
    "for column in categorical_columns:\n",
    "    data[column] = label_encoder.fit_transform(data[column])\n",
    "\n",
    "# Display the first few rows after encoding to verify\n",
    "encoded_data_head = data.head()\n",
    "\n",
    "encoded_data_head\n"
   ]
  },
  {
   "cell_type": "code",
   "execution_count": 8,
   "metadata": {},
   "outputs": [
    {
     "name": "stdout",
     "output_type": "stream",
     "text": [
      "Data after log transformation on Billing Amount:\n",
      "   Billing Amount\n",
      "0       10.668620\n",
      "1        9.981405\n",
      "2       10.139826\n",
      "3       10.146779\n",
      "4       10.469040\n"
     ]
    }
   ],
   "source": [
    "import numpy as np\n",
    "\n",
    "# Applying log transformation on skewed columns\n",
    "data['Billing Amount'] = np.log1p(data['Billing Amount'])\n",
    "\n",
    "print(\"Data after log transformation on Billing Amount:\")\n",
    "print(data[['Billing Amount']].head())\n"
   ]
  },
  {
   "cell_type": "code",
   "execution_count": 13,
   "metadata": {},
   "outputs": [
    {
     "name": "stdout",
     "output_type": "stream",
     "text": [
      "<class 'pandas.core.frame.DataFrame'>\n",
      "RangeIndex: 51000 entries, 0 to 50999\n",
      "Data columns (total 15 columns):\n",
      " #   Column              Non-Null Count  Dtype  \n",
      "---  ------              --------------  -----  \n",
      " 0   Name                51000 non-null  object \n",
      " 1   Age                 51000 non-null  int64  \n",
      " 2   Gender              51000 non-null  object \n",
      " 3   Blood Type          51000 non-null  object \n",
      " 4   Medical Condition   51000 non-null  object \n",
      " 5   Date of Admission   51000 non-null  object \n",
      " 6   Doctor              51000 non-null  object \n",
      " 7   Hospital            51000 non-null  object \n",
      " 8   Insurance Provider  51000 non-null  object \n",
      " 9   Billing Amount      51000 non-null  float64\n",
      " 10  Room Number         51000 non-null  int64  \n",
      " 11  Admission Type      51000 non-null  object \n",
      " 12  Discharge Date      51000 non-null  object \n",
      " 13  Medication          51000 non-null  object \n",
      " 14  Test Results        51000 non-null  object \n",
      "dtypes: float64(1), int64(2), object(12)\n",
      "memory usage: 5.8+ MB\n",
      "None\n",
      "Any missing values left? False\n"
     ]
    }
   ],
   "source": [
    "# Final check for data cleanliness\n",
    "print(data.info())\n",
    "print(\"Any missing values left?\", data.isnull().sum().any())\n",
    "\n",
    "# Export cleaned data to a new file\n",
    "data.to_csv('Cleaned_healthcare_dataset.csv', index=False)\n"
   ]
  },
  {
   "cell_type": "code",
   "execution_count": null,
   "metadata": {},
   "outputs": [],
   "source": []
  }
 ],
 "metadata": {
  "kernelspec": {
   "display_name": "base",
   "language": "python",
   "name": "python3"
  },
  "language_info": {
   "codemirror_mode": {
    "name": "ipython",
    "version": 3
   },
   "file_extension": ".py",
   "mimetype": "text/x-python",
   "name": "python",
   "nbconvert_exporter": "python",
   "pygments_lexer": "ipython3",
   "version": "3.9.13"
  }
 },
 "nbformat": 4,
 "nbformat_minor": 2
}
