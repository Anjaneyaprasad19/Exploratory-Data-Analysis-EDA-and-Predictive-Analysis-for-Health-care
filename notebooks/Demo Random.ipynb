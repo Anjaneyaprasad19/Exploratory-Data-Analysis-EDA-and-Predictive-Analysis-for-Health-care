{
 "cells": [
  {
   "cell_type": "code",
   "execution_count": 1,
   "metadata": {},
   "outputs": [
    {
     "name": "stderr",
     "output_type": "stream",
     "text": [
      "c:\\Users\\bharg\\anaconda3\\lib\\site-packages\\pandas\\core\\computation\\expressions.py:21: UserWarning: Pandas requires version '2.8.4' or newer of 'numexpr' (version '2.8.3' currently installed).\n",
      "  from pandas.core.computation.check import NUMEXPR_INSTALLED\n",
      "c:\\Users\\bharg\\anaconda3\\lib\\site-packages\\pandas\\core\\arrays\\masked.py:60: UserWarning: Pandas requires version '1.3.6' or newer of 'bottleneck' (version '1.3.5' currently installed).\n",
      "  from pandas.core import (\n"
     ]
    },
    {
     "name": "stdout",
     "output_type": "stream",
     "text": [
      "Random Forest Classification Report:\n",
      "              precision    recall  f1-score   support\n",
      "\n",
      "    Abnormal       1.00      1.00      1.00      1747\n",
      "Inconclusive       1.00      1.00      1.00       887\n",
      "      Normal       1.00      1.00      1.00      7566\n",
      "\n",
      "    accuracy                           1.00     10200\n",
      "   macro avg       1.00      1.00      1.00     10200\n",
      "weighted avg       1.00      1.00      1.00     10200\n",
      "\n",
      "Accuracy: 1.0\n",
      "Confusion Matrix:\n",
      "[[1747    0    0]\n",
      " [   0  887    0]\n",
      " [   0    0 7566]]\n"
     ]
    }
   ],
   "source": [
    "import pandas as pd\n",
    "from sklearn.model_selection import train_test_split\n",
    "from sklearn.ensemble import RandomForestClassifier\n",
    "from sklearn.preprocessing import LabelEncoder, StandardScaler\n",
    "from sklearn.metrics import classification_report, accuracy_score, confusion_matrix\n",
    "import joblib\n",
    "\n",
    "# Step 1: Load the dataset\n",
    "data = pd.read_csv('Project_healthcare_dataset.csv')\n",
    "\n",
    "# Step 2: Preprocessing\n",
    "# Identify categorical features to encode\n",
    "categorical_features = ['Gender', 'Blood Type', 'Medical Condition', 'Medication', \n",
    "                        'Admission Type', 'Doctor', 'Hospital', 'Insurance Provider']\n",
    "label_encoders = {}\n",
    "\n",
    "# Encode categorical features\n",
    "for feature in categorical_features:\n",
    "    le = LabelEncoder()\n",
    "    data[feature] = le.fit_transform(data[feature])\n",
    "    label_encoders[feature] = le\n",
    "\n",
    "# Define features and target\n",
    "features = ['Age', 'Gender', 'Blood Type', 'Medical Condition', 'Medication']\n",
    "X = data[features]\n",
    "y = data['Test Results']\n",
    "\n",
    "# Encode the target variable\n",
    "target_encoder = LabelEncoder()\n",
    "y = target_encoder.fit_transform(y)\n",
    "label_encoders['Test Results'] = target_encoder\n",
    "\n",
    "# Train-test split\n",
    "X_train, X_test, y_train, y_test = train_test_split(X, y, test_size=0.2, random_state=42)\n",
    "\n",
    "# Standardize numeric features\n",
    "scaler = StandardScaler()\n",
    "X_train_scaled = scaler.fit_transform(X_train)\n",
    "X_test_scaled = scaler.transform(X_test)\n",
    "\n",
    "# Step 3: Train the Random Forest Classifier\n",
    "rf_model = RandomForestClassifier(n_estimators=100, random_state=42)\n",
    "rf_model.fit(X_train_scaled, y_train)\n",
    "\n",
    "# Save the model, scaler, and encoders\n",
    "joblib.dump(rf_model, 'random_forest_model.pkl')\n",
    "joblib.dump(scaler, 'scaler.pkl')\n",
    "joblib.dump(label_encoders, 'label_encoders.pkl')\n",
    "\n",
    "# Step 4: Evaluate the Model\n",
    "y_pred = rf_model.predict(X_test_scaled)\n",
    "\n",
    "print(\"Random Forest Classification Report:\")\n",
    "print(classification_report(y_test, y_pred, target_names=target_encoder.classes_))\n",
    "print(\"Accuracy:\", accuracy_score(y_test, y_pred))\n",
    "\n",
    "# Optional: Confusion matrix\n",
    "print(\"Confusion Matrix:\")\n",
    "print(confusion_matrix(y_test, y_pred))\n",
    "\n"
   ]
  },
  {
   "cell_type": "code",
   "execution_count": 3,
   "metadata": {},
   "outputs": [],
   "source": [
    "def predict_new_patient(model, scaler, encoders, patient_data):\n",
    "    categorical_features = ['Gender', 'Blood Type', 'Medical Condition', 'Medication']\n",
    "    \n",
    "    for feature in categorical_features:\n",
    "        le = encoders[feature]\n",
    "        if patient_data[feature] not in le.classes_:\n",
    "            st.error(f\"Unseen category '{patient_data[feature]}' in feature '{feature}'.\")\n",
    "            return f\"Error: Unseen label '{patient_data[feature]}' in '{feature}'\"\n",
    "        patient_data[feature] = le.transform([patient_data[feature]])[0]\n",
    "    \n",
    "    patient_df = pd.DataFrame([patient_data])\n",
    "    patient_scaled = scaler.transform(patient_df)\n",
    "    \n",
    "    prediction = model.predict(patient_scaled)\n",
    "    result = encoders['Test Results'].inverse_transform(prediction)[0]\n",
    "    return result\n"
   ]
  },
  {
   "cell_type": "code",
   "execution_count": null,
   "metadata": {},
   "outputs": [],
   "source": [
    "def predict_test_result(model, scaler, encoders, patient_data):\n",
    "    # Categorical features to encode\n",
    "    categorical_features = ['Gender', 'Blood Type', 'Medical Condition', 'Medication']\n",
    "    \n",
    "    # Encode categorical features\n",
    "    for feature in categorical_features:\n",
    "        encoder = encoders[feature]\n",
    "        if patient_data[feature] not in encoder.classes_:\n",
    "            raise ValueError(f\"Unseen category '{patient_data[feature]}' in feature '{feature}'\")\n",
    "        patient_data[feature] = encoder.transform([patient_data[feature]])[0]\n",
    "    \n",
    "    # Create a DataFrame for the single patient\n",
    "    patient_df = pd.DataFrame([patient_data])\n",
    "    \n",
    "    # Scale the numerical features\n",
    "    patient_scaled = scaler.transform(patient_df)\n",
    "    \n",
    "    # Predict using the model\n",
    "    prediction = model.predict(patient_scaled)\n",
    "    result = encoders['Test Results'].inverse_transform(prediction)[0]\n",
    "    \n",
    "    return result\n"
   ]
  },
  {
   "cell_type": "code",
   "execution_count": 5,
   "metadata": {},
   "outputs": [
    {
     "name": "stdout",
     "output_type": "stream",
     "text": [
      "Predicted Test Result: Normal\n"
     ]
    }
   ],
   "source": [
    "# Example new patient data with feature values only (excluding 'Test Results')\n",
    "new_patient = {\n",
    "    'Age': 27,\n",
    "    'Gender': 'Female',\n",
    "    'Blood Type': 'B+',\n",
    "    'Medical Condition': 'Diabetes',\n",
    "    'Medication': 'Paracetamol'\n",
    "}\n",
    "\n",
    "# Load the saved model, scaler, and encoders\n",
    "loaded_model = joblib.load('random_forest_model.pkl')\n",
    "loaded_scaler = joblib.load('scaler.pkl')\n",
    "loaded_encoders = joblib.load('label_encoders.pkl')\n",
    "\n",
    "# Make a prediction\n",
    "try:\n",
    "    result = predict_test_result(loaded_model, loaded_scaler, loaded_encoders, new_patient)\n",
    "    print(\"Predicted Test Result:\", result)\n",
    "except ValueError as e:\n",
    "    print(\"Error:\", e)"
   ]
  },
  {
   "cell_type": "code",
   "execution_count": null,
   "metadata": {},
   "outputs": [],
   "source": []
  }
 ],
 "metadata": {
  "kernelspec": {
   "display_name": "base",
   "language": "python",
   "name": "python3"
  },
  "language_info": {
   "codemirror_mode": {
    "name": "ipython",
    "version": 3
   },
   "file_extension": ".py",
   "mimetype": "text/x-python",
   "name": "python",
   "nbconvert_exporter": "python",
   "pygments_lexer": "ipython3",
   "version": "3.9.13"
  }
 },
 "nbformat": 4,
 "nbformat_minor": 2
}
